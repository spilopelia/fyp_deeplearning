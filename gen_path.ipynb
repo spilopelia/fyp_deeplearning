{
 "cells": [
  {
   "cell_type": "code",
   "execution_count": null,
   "metadata": {},
   "outputs": [
    {
     "name": "stdout",
     "output_type": "stream",
     "text": [
      "All file paths have been saved to mlsimdata1.csv\n",
      "All file paths have been saved to mlsimdata2.csv\n",
      "All file paths have been saved to mlsimdata3.csv\n",
      "All file paths have been saved to mlsimdata4.csv\n",
      "All file paths have been saved to mlsimdata5.csv\n",
      "All file paths have been saved to mlsimdata6.csv\n",
      "All file paths have been saved to mlsimdata7.csv\n",
      "All file paths have been saved to mlsimdata8.csv\n",
      "All file paths have been saved to mlsimdata9.csv\n",
      "All file paths have been saved to mlsimdata10.csv\n",
      "All file paths have been saved to mlsimdata11.csv\n",
      "All file paths have been saved to mlsimdata12.csv\n",
      "All file paths have been saved to mlsimdata13.csv\n",
      "All file paths have been saved to mlsimdata14.csv\n",
      "All file paths have been saved to mlsimdata15.csv\n",
      "All file paths have been saved to mlsimdata16.csv\n",
      "All file paths have been saved to mlsimdata17.csv\n",
      "All file paths have been saved to mlsimdata18.csv\n",
      "All file paths have been saved to mlsimdata19.csv\n",
      "All file paths have been saved to mlsimdata20.csv\n"
     ]
    }
   ],
   "source": [
    "import os\n",
    "import csv\n",
    "\n",
    "# Function to find all files in a directory and its subdirectories\n",
    "def find_all_files(directory):\n",
    "    file_paths = []\n",
    "    for root, dirs, files in os.walk(directory):\n",
    "        for file in files:\n",
    "            full_path = os.path.join(root, file)\n",
    "            file_paths.append(full_path)\n",
    "    return file_paths\n",
    "\n",
    "# Function to save file paths to a CSV file\n",
    "def save_to_csv(file_paths, csv_filename):\n",
    "    with open(csv_filename, mode='w', newline='') as csvfile:\n",
    "        writer = csv.writer(csvfile)\n",
    "        writer.writerow(['file_path'])  # Header for the CSV file\n",
    "        for path in file_paths:\n",
    "            writer.writerow([path])\n",
    "\n",
    "for i in range(1,21):\n",
    "    # Cell to interact with the user\n",
    "    directory = 'data_collection/mlsimdata_npy2/mlsimdata'+str(i)\n",
    "    # Get all file paths\n",
    "    file_paths = find_all_files(directory)\n",
    "\n",
    "    # Specify the output CSV file\n",
    "    csv_filename = \"mlsimdata\"+str(i)+\".csv\"\n",
    "\n",
    "    # Save the file paths to the CSV file\n",
    "    save_to_csv(file_paths, csv_filename)\n",
    "\n",
    "    print(f\"All file paths have been saved to {csv_filename}\")"
   ]
  },
  {
   "cell_type": "code",
   "execution_count": 2,
   "metadata": {},
   "outputs": [
    {
     "name": "stdout",
     "output_type": "stream",
     "text": [
      "Combined CSV saved to combined_file_paths.csv\n"
     ]
    }
   ],
   "source": [
    "import pandas as pd\n",
    "import os\n",
    "\n",
    "# Function to combine multiple CSV files into one\n",
    "def combine_csv_files(csv_files, output_file):\n",
    "    # Create an empty list to hold DataFrames\n",
    "    dataframes = []\n",
    "    \n",
    "    # Loop through the list of CSV files\n",
    "    for file in csv_files:\n",
    "        # Read each CSV file into a DataFrame\n",
    "        df = pd.read_csv(file)\n",
    "        # Append the DataFrame to the list\n",
    "        dataframes.append(df)\n",
    "    \n",
    "    # Concatenate all DataFrames in the list into one DataFrame\n",
    "    combined_df = pd.concat(dataframes, ignore_index=True)\n",
    "    \n",
    "    # Save the combined DataFrame to a new CSV file\n",
    "    combined_df.to_csv(output_file, index=False)\n",
    "    print(f\"Combined CSV saved to {output_file}\")\n",
    "csv_files=[]\n",
    "for i in range(1,19):\n",
    "    csv_files.append('mlsimdata'+str(i)+'.csv')\n",
    "\n",
    "# Output file where the combined CSV will be saved\n",
    "output_file = 'combined_file_paths.csv'\n",
    "\n",
    "# Call the function to combine the CSV files\n",
    "combine_csv_files(csv_files, output_file)\n"
   ]
  }
 ],
 "metadata": {
  "kernelspec": {
   "display_name": "d3m",
   "language": "python",
   "name": "python3"
  },
  "language_info": {
   "codemirror_mode": {
    "name": "ipython",
    "version": 3
   },
   "file_extension": ".py",
   "mimetype": "text/x-python",
   "name": "python",
   "nbconvert_exporter": "python",
   "pygments_lexer": "ipython3",
   "version": "3.12.2"
  }
 },
 "nbformat": 4,
 "nbformat_minor": 2
}
