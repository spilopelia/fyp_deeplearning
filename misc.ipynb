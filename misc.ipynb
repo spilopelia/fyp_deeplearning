{
 "cells": [
  {
   "cell_type": "code",
   "execution_count": 1,
   "metadata": {},
   "outputs": [
    {
     "name": "stderr",
     "output_type": "stream",
     "text": [
      "/home/user/ckwan1/.conda/envs/d3m/lib/python3.12/site-packages/tqdm/auto.py:21: TqdmWarning: IProgress not found. Please update jupyter and ipywidgets. See https://ipywidgets.readthedocs.io/en/stable/user_install.html\n",
      "  from .autonotebook import tqdm as notebook_tqdm\n"
     ]
    }
   ],
   "source": [
    "import torch\n",
    "import lightning.pytorch as pl\n",
    "from datapile import FastPMPile, HuggingfaceLoader, HuggingfaceLoader_iter\n",
    "from model import Lpt2NbodyNetLightning\n",
    "import yaml\n",
    "import argparse\n",
    "import os\n",
    "\n",
    "def load_config(config_file):\n",
    "    with open(config_file, 'r') as file:\n",
    "        config = yaml.safe_load(file)\n",
    "    return config"
   ]
  },
  {
   "cell_type": "code",
   "execution_count": 3,
   "metadata": {},
   "outputs": [],
   "source": [
    "def verify_model(model, input_shape, output_shape=None, device='cuda' if torch.cuda.is_available() else 'cpu'):\n",
    "    \"\"\"\n",
    "    Verify that a model can successfully complete forward and backward passes.\n",
    "    \n",
    "    Args:\n",
    "        model: The PyTorch model to verify\n",
    "        input_shape: Shape of input tensor (batch size included)\n",
    "        output_shape: Expected output shape (for loss calculation)\n",
    "        device: Device to run verification on\n",
    "    \"\"\"\n",
    "    model = model.to(device)\n",
    "    model.train()  # Set to training mode for proper gradient computation\n",
    "    \n",
    "    try:\n",
    "        # Create random input tensor\n",
    "        dummy_input = torch.randn(*input_shape).to(device)\n",
    "        dummy_input.requires_grad = True  # For models that need input gradients\n",
    "        \n",
    "        # Forward pass\n",
    "        output = model(dummy_input)\n",
    "        print(\"Forward pass completed successfully.\")\n",
    "        print(f\"Output shape: {output.shape}\")\n",
    "        \n",
    "        # Create dummy target if output_shape is provided\n",
    "        if output_shape is not None:\n",
    "            if isinstance(output, (list, tuple, dict)):\n",
    "                # Handle multiple outputs\n",
    "                dummy_target = [torch.randn(*shape).to(device) for shape in output_shape]\n",
    "                loss = sum(torch.nn.functional.mse_loss(o, t) for o, t in zip(output, dummy_target))\n",
    "            else:\n",
    "                dummy_target = torch.randn(*output_shape).to(device)\n",
    "                loss = torch.nn.functional.mse_loss(output, dummy_target)\n",
    "        else:\n",
    "            # Simple sum of outputs if no target shape provided\n",
    "            if isinstance(output, (list, tuple, dict)):\n",
    "                loss = sum(o.sum() for o in output)\n",
    "            else:\n",
    "                loss = output.sum()\n",
    "        \n",
    "        # Backward pass\n",
    "        loss.backward()\n",
    "        print(\"Backward pass completed successfully.\")\n",
    "        \n",
    "        # Check parameter gradients\n",
    "        for name, param in model.named_parameters():\n",
    "            if param.grad is None:\n",
    "                print(f\"Warning: Parameter {name} has no gradient\")\n",
    "            else:\n",
    "                print(f\"Parameter {name} gradient norm: {param.grad.norm().item():.4f}\")\n",
    "        \n",
    "        return True\n",
    "        \n",
    "    except Exception as e:\n",
    "        print(f\"Error during verification: {str(e)}\")\n",
    "        return False"
   ]
  },
  {
   "cell_type": "code",
   "execution_count": 7,
   "metadata": {},
   "outputs": [
    {
     "name": "stdout",
     "output_type": "stream",
     "text": [
      "Forward pass completed successfully.\n",
      "Output shape: torch.Size([1, 3, 32, 32, 32])\n",
      "Backward pass completed successfully.\n",
      "Parameter model.intro.weight gradient norm: 0.6609\n",
      "Parameter model.intro.bias gradient norm: 0.0307\n",
      "Parameter model.ending.weight gradient norm: 3.0512\n",
      "Parameter model.ending.bias gradient norm: 0.0508\n",
      "Parameter model.encoders.0.0.beta gradient norm: 0.0022\n",
      "Parameter model.encoders.0.0.gamma gradient norm: 0.0039\n",
      "Parameter model.encoders.0.0.conv1.weight gradient norm: 0.0000\n",
      "Parameter model.encoders.0.0.conv1.bias gradient norm: 0.0000\n",
      "Parameter model.encoders.0.0.conv2.weight gradient norm: 0.0000\n",
      "Parameter model.encoders.0.0.conv2.bias gradient norm: 0.0000\n",
      "Parameter model.encoders.0.0.conv3.weight gradient norm: 0.0000\n",
      "Parameter model.encoders.0.0.conv3.bias gradient norm: 0.0000\n",
      "Parameter model.encoders.0.0.sca.1.weight gradient norm: 0.0000\n",
      "Parameter model.encoders.0.0.sca.1.bias gradient norm: 0.0000\n",
      "Parameter model.encoders.0.0.conv4.weight gradient norm: 0.0000\n",
      "Parameter model.encoders.0.0.conv4.bias gradient norm: 0.0000\n",
      "Parameter model.encoders.0.0.conv5.weight gradient norm: 0.0000\n",
      "Parameter model.encoders.0.0.conv5.bias gradient norm: 0.0000\n",
      "Parameter model.encoders.0.0.norm1.weight gradient norm: 0.0000\n",
      "Parameter model.encoders.0.0.norm1.bias gradient norm: 0.0000\n",
      "Parameter model.encoders.0.0.norm2.weight gradient norm: 0.0000\n",
      "Parameter model.encoders.0.0.norm2.bias gradient norm: 0.0000\n",
      "Parameter model.encoders.1.0.beta gradient norm: 0.0004\n",
      "Parameter model.encoders.1.0.gamma gradient norm: 0.0009\n",
      "Parameter model.encoders.1.0.conv1.weight gradient norm: 0.0000\n",
      "Parameter model.encoders.1.0.conv1.bias gradient norm: 0.0000\n",
      "Parameter model.encoders.1.0.conv2.weight gradient norm: 0.0000\n",
      "Parameter model.encoders.1.0.conv2.bias gradient norm: 0.0000\n",
      "Parameter model.encoders.1.0.conv3.weight gradient norm: 0.0000\n",
      "Parameter model.encoders.1.0.conv3.bias gradient norm: 0.0000\n",
      "Parameter model.encoders.1.0.sca.1.weight gradient norm: 0.0000\n",
      "Parameter model.encoders.1.0.sca.1.bias gradient norm: 0.0000\n",
      "Parameter model.encoders.1.0.conv4.weight gradient norm: 0.0000\n",
      "Parameter model.encoders.1.0.conv4.bias gradient norm: 0.0000\n",
      "Parameter model.encoders.1.0.conv5.weight gradient norm: 0.0000\n",
      "Parameter model.encoders.1.0.conv5.bias gradient norm: 0.0000\n",
      "Parameter model.encoders.1.0.norm1.weight gradient norm: 0.0000\n",
      "Parameter model.encoders.1.0.norm1.bias gradient norm: 0.0000\n",
      "Parameter model.encoders.1.0.norm2.weight gradient norm: 0.0000\n",
      "Parameter model.encoders.1.0.norm2.bias gradient norm: 0.0000\n",
      "Parameter model.decoders.0.0.beta gradient norm: 0.0003\n",
      "Parameter model.decoders.0.0.gamma gradient norm: 0.0007\n",
      "Parameter model.decoders.0.0.conv1.weight gradient norm: 0.0000\n",
      "Parameter model.decoders.0.0.conv1.bias gradient norm: 0.0000\n",
      "Parameter model.decoders.0.0.conv2.weight gradient norm: 0.0000\n",
      "Parameter model.decoders.0.0.conv2.bias gradient norm: 0.0000\n",
      "Parameter model.decoders.0.0.conv3.weight gradient norm: 0.0000\n",
      "Parameter model.decoders.0.0.conv3.bias gradient norm: 0.0000\n",
      "Parameter model.decoders.0.0.sca.1.weight gradient norm: 0.0000\n",
      "Parameter model.decoders.0.0.sca.1.bias gradient norm: 0.0000\n",
      "Parameter model.decoders.0.0.conv4.weight gradient norm: 0.0000\n",
      "Parameter model.decoders.0.0.conv4.bias gradient norm: 0.0000\n",
      "Parameter model.decoders.0.0.conv5.weight gradient norm: 0.0000\n",
      "Parameter model.decoders.0.0.conv5.bias gradient norm: 0.0000\n",
      "Parameter model.decoders.0.0.norm1.weight gradient norm: 0.0000\n",
      "Parameter model.decoders.0.0.norm1.bias gradient norm: 0.0000\n",
      "Parameter model.decoders.0.0.norm2.weight gradient norm: 0.0000\n",
      "Parameter model.decoders.0.0.norm2.bias gradient norm: 0.0000\n",
      "Parameter model.decoders.1.0.beta gradient norm: 0.0022\n",
      "Parameter model.decoders.1.0.gamma gradient norm: 0.0038\n",
      "Parameter model.decoders.1.0.conv1.weight gradient norm: 0.0000\n",
      "Parameter model.decoders.1.0.conv1.bias gradient norm: 0.0000\n",
      "Parameter model.decoders.1.0.conv2.weight gradient norm: 0.0000\n",
      "Parameter model.decoders.1.0.conv2.bias gradient norm: 0.0000\n",
      "Parameter model.decoders.1.0.conv3.weight gradient norm: 0.0000\n",
      "Parameter model.decoders.1.0.conv3.bias gradient norm: 0.0000\n",
      "Parameter model.decoders.1.0.sca.1.weight gradient norm: 0.0000\n",
      "Parameter model.decoders.1.0.sca.1.bias gradient norm: 0.0000\n",
      "Parameter model.decoders.1.0.conv4.weight gradient norm: 0.0000\n",
      "Parameter model.decoders.1.0.conv4.bias gradient norm: 0.0000\n",
      "Parameter model.decoders.1.0.conv5.weight gradient norm: 0.0000\n",
      "Parameter model.decoders.1.0.conv5.bias gradient norm: 0.0000\n",
      "Parameter model.decoders.1.0.norm1.weight gradient norm: 0.0000\n",
      "Parameter model.decoders.1.0.norm1.bias gradient norm: 0.0000\n",
      "Parameter model.decoders.1.0.norm2.weight gradient norm: 0.0000\n",
      "Parameter model.decoders.1.0.norm2.bias gradient norm: 0.0000\n",
      "Parameter model.middle_blks.0.beta gradient norm: 0.0001\n",
      "Parameter model.middle_blks.0.gamma gradient norm: 0.0003\n",
      "Parameter model.middle_blks.0.conv1.weight gradient norm: 0.0000\n",
      "Parameter model.middle_blks.0.conv1.bias gradient norm: 0.0000\n",
      "Parameter model.middle_blks.0.conv2.weight gradient norm: 0.0000\n",
      "Parameter model.middle_blks.0.conv2.bias gradient norm: 0.0000\n",
      "Parameter model.middle_blks.0.conv3.weight gradient norm: 0.0000\n",
      "Parameter model.middle_blks.0.conv3.bias gradient norm: 0.0000\n",
      "Parameter model.middle_blks.0.sca.1.weight gradient norm: 0.0000\n",
      "Parameter model.middle_blks.0.sca.1.bias gradient norm: 0.0000\n",
      "Parameter model.middle_blks.0.conv4.weight gradient norm: 0.0000\n",
      "Parameter model.middle_blks.0.conv4.bias gradient norm: 0.0000\n",
      "Parameter model.middle_blks.0.conv5.weight gradient norm: 0.0000\n",
      "Parameter model.middle_blks.0.conv5.bias gradient norm: 0.0000\n",
      "Parameter model.middle_blks.0.norm1.weight gradient norm: 0.0000\n",
      "Parameter model.middle_blks.0.norm1.bias gradient norm: 0.0000\n",
      "Parameter model.middle_blks.0.norm2.weight gradient norm: 0.0000\n",
      "Parameter model.middle_blks.0.norm2.bias gradient norm: 0.0000\n",
      "Parameter model.ups.0.0.weight gradient norm: 0.0119\n",
      "Parameter model.ups.1.0.weight gradient norm: 0.0787\n",
      "Parameter model.downs.0.weight gradient norm: 0.1598\n",
      "Parameter model.downs.0.bias gradient norm: 0.0074\n",
      "Parameter model.downs.1.weight gradient norm: 0.0237\n",
      "Parameter model.downs.1.bias gradient norm: 0.0020\n"
     ]
    },
    {
     "data": {
      "text/plain": [
       "True"
      ]
     },
     "execution_count": 7,
     "metadata": {},
     "output_type": "execute_result"
    }
   ],
   "source": [
    "path=\"/home/user/ckwan1/ml/configs/new_config/naf_denoise_coslr.yaml\"\n",
    "config = load_config(path)\n",
    "config['model']['batch_size'] = config['data']['batch_size']\n",
    "config['model']['max_epochs'] = config['trainer']['max_epochs']\n",
    "config['model']['naf_middle_blk_num'] = 1\n",
    "config['model']['naf_enc_blk_nums']  = [1,1]\n",
    "config['model']['naf_dec_blk_nums']  = [1,1]\n",
    "model = Lpt2NbodyNetLightning(**config['model'])\n",
    "input_shape = (1, 3, 32, 32, 32)  \n",
    "output_shape = (1, 3, 32, 32, 32)  \n",
    "verify_model(model, input_shape, output_shape)"
   ]
  },
  {
   "cell_type": "code",
   "execution_count": 1,
   "metadata": {},
   "outputs": [
    {
     "name": "stderr",
     "output_type": "stream",
     "text": [
      "/home/user/ckwan1/.conda/envs/d3m/lib/python3.12/site-packages/tqdm/auto.py:21: TqdmWarning: IProgress not found. Please update jupyter and ipywidgets. See https://ipywidgets.readthedocs.io/en/stable/user_install.html\n",
      "  from .autonotebook import tqdm as notebook_tqdm\n"
     ]
    }
   ],
   "source": [
    "from datapile import HuggingfaceLoader\n",
    "data = HuggingfaceLoader(\n",
    "        dataset_path = '/home/user/ckwan1/ml/hfdataset',\n",
    "        shuffle = False,\n",
    "        batch_size = 1,\n",
    "        num_workers = 1,\n",
    "        augment = False,\n",
    "        density = True,\n",
    "        init_density= False\n",
    "    )\n",
    "data.setup(\"validation\")\n",
    "val_iter = iter(data.val_dataloader())\n",
    "batch = next(val_iter)"
   ]
  },
  {
   "cell_type": "code",
   "execution_count": null,
   "metadata": {},
   "outputs": [],
   "source": [
    "import datasets\n",
    "datasets.load_from_disk(self.hparams.dataset_path)"
   ]
  },
  {
   "cell_type": "code",
   "execution_count": 2,
   "metadata": {},
   "outputs": [
    {
     "data": {
      "text/plain": [
       "torch.Size([1, 1, 32, 32, 32])"
      ]
     },
     "execution_count": 2,
     "metadata": {},
     "output_type": "execute_result"
    }
   ],
   "source": [
    "batch[0].shape"
   ]
  },
  {
   "cell_type": "code",
   "execution_count": 31,
   "metadata": {},
   "outputs": [
    {
     "data": {
      "text/plain": [
       "<matplotlib.colorbar.Colorbar at 0x7ff025afe720>"
      ]
     },
     "execution_count": 31,
     "metadata": {},
     "output_type": "execute_result"
    },
    {
     "data": {
      "image/png": "[encoded data removed]",
      "text/plain": [
       "<Figure size 640x480 with 2 Axes>"
      ]
     },
     "metadata": {},
     "output_type": "display_data"
    }
   ],
   "source": [
    "import matplotlib.pyplot as plt\n",
    "plt.imshow(batch[0][0,0,0])\n",
    "plt.colorbar()"
   ]
  },
  {
   "cell_type": "code",
   "execution_count": 27,
   "metadata": {},
   "outputs": [
    {
     "data": {
      "text/plain": [
       "<matplotlib.colorbar.Colorbar at 0x7ff026f2c3b0>"
      ]
     },
     "execution_count": 27,
     "metadata": {},
     "output_type": "execute_result"
    },
    {
     "data": {
      "image/png": "[encoded data removed]",
      "text/plain": [
       "<Figure size 640x480 with 2 Axes>"
      ]
     },
     "metadata": {},
     "output_type": "display_data"
    }
   ],
   "source": [
    "import matplotlib.pyplot as plt\n",
    "plt.imshow(batch[1][0,0,0])\n",
    "plt.colorbar()"
   ]
  },
  {
   "cell_type": "code",
   "execution_count": 4,
   "metadata": {},
   "outputs": [
    {
     "name": "stderr",
     "output_type": "stream",
     "text": [
      "/home/user/ckwan1/.conda/envs/d3m/lib/python3.12/site-packages/lightning/pytorch/core/module.py:445: You are trying to `self.log()` but the `self.trainer` reference is not registered on the model yet. This is most likely because the model hasn't been passed to the `Trainer`\n"
     ]
    }
   ],
   "source": [
    "import torch\n",
    "import lightning.pytorch as pl\n",
    "from model import Lpt2NbodyNetLightning\n",
    "import yaml\n",
    "file_path = '/home/user/ckwan1/ml/configs/new_config/score_model_adam_gc_reverse_init_density_individual_std1and2.yaml'\n",
    "with open(file_path, 'r') as file:\n",
    "    config = yaml.safe_load(file)\n",
    "config['model']['batch_size'] = config['data']['batch_size']\n",
    "config['model']['max_epochs'] = config['trainer']['max_epochs']\n",
    "config['model']['used_density'] = config['data']['density']\n",
    "config['model']['ch_mult'] = [1]\n",
    "model = Lpt2NbodyNetLightning(**config['model'])\n",
    "\n",
    "optimizer = model.configure_optimizers()\n",
    "x = torch.randn(1, 1, 32, 32, 32)\n",
    "y = torch.randn(1, 1, 32, 32, 32)\n",
    "# Forward pass\n",
    "loss = model.training_step((x,y),batch_idx=0)\n",
    "\n",
    "# Backward pass\n",
    "loss.backward()"
   ]
  }
 ],
 "metadata": {
  "kernelspec": {
   "display_name": "Python 3",
   "language": "python",
   "name": "python3"
  },
  "language_info": {
   "codemirror_mode": {
    "name": "ipython",
    "version": 3
   },
   "file_extension": ".py",
   "mimetype": "text/x-python",
   "name": "python",
   "nbconvert_exporter": "python",
   "pygments_lexer": "ipython3",
   "version": "3.12.2"
  }
 },
 "nbformat": 4,
 "nbformat_minor": 2
}
