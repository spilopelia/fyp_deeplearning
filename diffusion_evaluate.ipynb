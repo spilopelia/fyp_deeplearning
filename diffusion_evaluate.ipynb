{
 "cells": [
  {
   "cell_type": "code",
   "execution_count": null,
   "metadata": {},
   "outputs": [],
   "source": [
    "from datapile import HuggingfaceLoader\n",
    "data = HuggingfaceLoader(\n",
    "    dataset_path=\"/home/user/ckwan1/ml/huggingface_dataset\", \n",
    "    batch_size=1, \n",
    "    shuffle=False,\n",
    "    num_workers=1,\n",
    ")\n",
    "data.setup(\"validation\")\n",
    "val_iter = iter(data.val_dataloader())\n",
    "za_tensor, fastpm_tensor = next(val_iter)"
   ]
  },
  {
   "cell_type": "code",
   "execution_count": null,
   "metadata": {},
   "outputs": [],
   "source": [
    "import torch\n",
    "\n",
    "model_path='/lustre/project/tkcastrosim/CKWan/ml/new_checkpoints/score_model_adam_gc/best-checkpoint-epoch=497.ckpt'\n",
    "\n",
    "from model import Lpt2NbodyNetLightning\n",
    "model = Lpt2NbodyNetLightning.load_from_checkpoint(model_path)\n",
    "model.eval()\n",
    "\n",
    "model_displacement = model.sample_initial_condition(za_tensor)\n"
   ]
  }
 ],
 "metadata": {
  "kernelspec": {
   "display_name": "Python 3",
   "language": "python",
   "name": "python3"
  },
  "language_info": {
   "name": "python",
   "version": "3.12.2"
  }
 },
 "nbformat": 4,
 "nbformat_minor": 2
}
